{
 "cells": [
  {
   "cell_type": "markdown",
   "metadata": {},
   "source": [
    "# Basket option implementation based on normal model"
   ]
  },
  {
   "cell_type": "code",
   "execution_count": 2,
   "metadata": {},
   "outputs": [],
   "source": [
    "%load_ext autoreload\n",
    "%autoreload 2"
   ]
  },
  {
   "cell_type": "code",
   "execution_count": 3,
   "metadata": {},
   "outputs": [],
   "source": [
    "import numpy as np\n",
    "from option_models import basket\n",
    "from option_models import bsm\n",
    "from option_models import normal"
   ]
  },
  {
   "cell_type": "code",
   "execution_count": null,
   "metadata": {},
   "outputs": [],
   "source": []
  },
  {
   "cell_type": "code",
   "execution_count": 4,
   "metadata": {},
   "outputs": [
    {
     "name": "stdout",
     "output_type": "stream",
     "text": [
      "[1 0 0 0]\n"
     ]
    }
   ],
   "source": [
    "# A trivial test case 1: \n",
    "# one asset have 100% weight (the others zero)\n",
    "# the case should be equivalent to the BSM or Normal model price\n",
    "\n",
    "spot = np.ones(4) * 100\n",
    "vol = np.ones(4) * 0.4\n",
    "weights = np.array([1, 0, 0, 0])\n",
    "divr = np.zeros(4)\n",
    "intr = 0\n",
    "cor_m = 0.5*np.identity(4) + 0.5\n",
    "texp = 5\n",
    "strike = 120\n",
    "\n",
    "print(weights)\n",
    "\n",
    "np.random.seed(123456)\n",
    "price_basket = basket.basket_price_mc(strike, spot, vol*spot, weights, texp, cor_m, bsm=False)"
   ]
  },
  {
   "cell_type": "code",
   "execution_count": 5,
   "metadata": {},
   "outputs": [
    {
     "ename": "TypeError",
     "evalue": "price() got an unexpected keyword argument 'cp'",
     "output_type": "error",
     "traceback": [
      "\u001b[1;31m---------------------------------------------------------------------------\u001b[0m",
      "\u001b[1;31mTypeError\u001b[0m                                 Traceback (most recent call last)",
      "\u001b[1;32m<ipython-input-5-594fc2477d42>\u001b[0m in \u001b[0;36m<module>\u001b[1;34m\u001b[0m\n\u001b[0;32m      2\u001b[0m \u001b[1;33m\u001b[0m\u001b[0m\n\u001b[0;32m      3\u001b[0m \u001b[0mnorm1\u001b[0m \u001b[1;33m=\u001b[0m \u001b[0mnormal\u001b[0m\u001b[1;33m.\u001b[0m\u001b[0mNormalModel\u001b[0m\u001b[1;33m(\u001b[0m\u001b[0mvol\u001b[0m\u001b[1;33m=\u001b[0m\u001b[1;36m40\u001b[0m\u001b[1;33m)\u001b[0m\u001b[1;33m\u001b[0m\u001b[1;33m\u001b[0m\u001b[0m\n\u001b[1;32m----> 4\u001b[1;33m \u001b[0mprice_norm\u001b[0m \u001b[1;33m=\u001b[0m \u001b[0mnorm1\u001b[0m\u001b[1;33m.\u001b[0m\u001b[0mprice\u001b[0m\u001b[1;33m(\u001b[0m\u001b[0mstrike\u001b[0m\u001b[1;33m=\u001b[0m\u001b[1;36m120\u001b[0m\u001b[1;33m,\u001b[0m \u001b[0mspot\u001b[0m\u001b[1;33m=\u001b[0m\u001b[1;36m100\u001b[0m\u001b[1;33m,\u001b[0m \u001b[0mtexp\u001b[0m\u001b[1;33m=\u001b[0m\u001b[0mtexp\u001b[0m\u001b[1;33m,\u001b[0m \u001b[0mcp\u001b[0m\u001b[1;33m=\u001b[0m\u001b[1;36m1\u001b[0m\u001b[1;33m)\u001b[0m\u001b[1;33m\u001b[0m\u001b[1;33m\u001b[0m\u001b[0m\n\u001b[0m\u001b[0;32m      5\u001b[0m \u001b[0mprint\u001b[0m\u001b[1;33m(\u001b[0m\u001b[0mprice_basket\u001b[0m\u001b[1;33m,\u001b[0m \u001b[0mprice_norm\u001b[0m\u001b[1;33m)\u001b[0m\u001b[1;33m\u001b[0m\u001b[1;33m\u001b[0m\u001b[0m\n",
      "\u001b[1;31mTypeError\u001b[0m: price() got an unexpected keyword argument 'cp'"
     ]
    }
   ],
   "source": [
    "# Compare the price to normal model formula\n",
    "\n",
    "norm1 = normal.NormalModel(vol=40)\n",
    "price_norm = norm1.price(strike=120, spot=100, texp=texp, cp=1)\n",
    "print(price_basket, price_norm)"
   ]
  },
  {
   "cell_type": "code",
   "execution_count": null,
   "metadata": {},
   "outputs": [],
   "source": [
    "# A trivial test case 2\n",
    "# all assets almost perfectly correlated:\n",
    "# the case should be equivalent to the BSM or Normal model price\n",
    "\n",
    "spot = np.ones(4) * 100\n",
    "vol = np.ones(4) * 0.4\n",
    "weights = np.ones(4) * 0.25\n",
    "divr = np.zeros(4)\n",
    "intr = 0\n",
    "cor_m = 0.0001*np.identity(4) + 0.9999*np.ones((4,4))\n",
    "texp = 5\n",
    "strike = 120\n",
    "\n",
    "print( cor_m )\n",
    "\n",
    "np.random.seed(123456)\n",
    "price_basket = basket.basket_price_mc(strike, spot, vol*spot, weights, texp, cor_m, bsm=False)\n",
    "print(price_basket, price_norm)"
   ]
  },
  {
   "cell_type": "code",
   "execution_count": null,
   "metadata": {},
   "outputs": [],
   "source": [
    "# A full test set for basket option with exact price\n",
    "\n",
    "spot = np.ones(4) * 100\n",
    "vol = np.ones(4) * 0.4\n",
    "weights = np.ones(4) * 0.25\n",
    "divr = np.zeros(4)\n",
    "intr = 0\n",
    "cor_m = 0.5*np.identity(4) + 0.5\n",
    "texp = 5\n",
    "strike = 100\n",
    "price_exact = 28.0073695"
   ]
  },
  {
   "cell_type": "code",
   "execution_count": null,
   "metadata": {},
   "outputs": [],
   "source": [
    "cor_m"
   ]
  },
  {
   "cell_type": "code",
   "execution_count": null,
   "metadata": {},
   "outputs": [],
   "source": [
    "price_basket = basket.basket_price_mc(strike, spot, vol*spot, weights, texp, cor_m, bsm=False)\n",
    "print(price_basket, price_exact)"
   ]
  },
  {
   "cell_type": "markdown",
   "metadata": {},
   "source": [
    "# [To Do] Basket option implementation based on BSM model\n",
    "## Write the similar test for BSM"
   ]
  },
  {
   "cell_type": "code",
   "execution_count": null,
   "metadata": {},
   "outputs": [],
   "source": [
    "price_basket = basket.basket_price_mc(strike, spot, vol*spot, weights, texp, cor_m, bsm=True)\n",
    "print(price_basket)"
   ]
  },
  {
   "cell_type": "code",
   "execution_count": null,
   "metadata": {},
   "outputs": [],
   "source": [
    "# A trivial test case 1: \n",
    "# one asset have 100% weight (the others zero)\n",
    "# the case should be equivalent to the BSM or Normal model price\n",
    "\n",
    "spot = np.ones(4) * 100\n",
    "vol = np.ones(4) * 0.4\n",
    "weights = np.array([1, 0, 0, 0])\n",
    "divr = np.zeros(4)\n",
    "intr = 0\n",
    "cor_m = 0.5*np.identity(4) + 0.5\n",
    "texp = 5\n",
    "strike = 120\n",
    "\n",
    "print(weights)\n",
    "\n",
    "np.random.seed(123456)\n",
    "price_basket = basket.basket_price_mc(strike, spot, vol, weights, texp, cor_m, bsm=True)"
   ]
  },
  {
   "cell_type": "markdown",
   "metadata": {},
   "source": [
    "# Spread option implementation based on normal model"
   ]
  },
  {
   "cell_type": "code",
   "execution_count": null,
   "metadata": {},
   "outputs": [],
   "source": [
    "# A full test set for spread option\n",
    "\n",
    "spot = np.array([100, 96])\n",
    "vol = np.array([0.2, 0.1])\n",
    "weights = np.array([1, -1])\n",
    "divr = np.array([1, 1])*0.05\n",
    "intr = 0.1\n",
    "cor_m = np.array([[1, 0.5], [0.5, 1]])\n",
    "texp = 1\n",
    "strike = 0\n",
    "price_exact = 8.5132252"
   ]
  },
  {
   "cell_type": "code",
   "execution_count": null,
   "metadata": {},
   "outputs": [],
   "source": [
    "# MC price based on normal model\n",
    "# make sure that the prices are similar\n",
    "\n",
    "np.random.seed(123456)\n",
    "price_spread = basket.basket_price_mc(strike, spot, vol*spot, weights, texp, cor_m, intr=intr, divr=divr, bsm=False)\n",
    "print(price_spread, price_exact)"
   ]
  },
  {
   "cell_type": "markdown",
   "metadata": {},
   "source": [
    "# Spread option implementation based on BSM model"
   ]
  },
  {
   "cell_type": "code",
   "execution_count": 6,
   "metadata": {},
   "outputs": [],
   "source": [
    "# Once the implementation is finished the BSM model price should also work\n",
    "price_spread = basket.basket_price_mc(\n",
    "    strike, spot, vol*spot, weights, texp, cor_m, intr=intr, divr=divr, bsm=True)"
   ]
  },
  {
   "cell_type": "code",
   "execution_count": 7,
   "metadata": {},
   "outputs": [
    {
     "name": "stdout",
     "output_type": "stream",
     "text": [
      "8.854083650439186 0.0\n"
     ]
    }
   ],
   "source": [
    "# You also test Kirk's approximation\n",
    "price_kirk = basket.spread_price_kirk(strike, spot, vol, texp, 0.5, intr, divr)\n",
    "print(price_kirk, price_spread)"
   ]
  },
  {
   "cell_type": "markdown",
   "metadata": {},
   "source": [
    "# [To Do] Complete the implementation of basket_price_norm_analytic\n",
    "# Compare the MC stdev of BSM basket prices from with and without CV"
   ]
  },
  {
   "cell_type": "code",
   "execution_count": 17,
   "metadata": {},
   "outputs": [],
   "source": [
    "# The basket option example from above\n",
    "spot = np.ones(4) * 100\n",
    "vol = np.ones(4) * 0.4\n",
    "weights = np.array([1, 0, 0, 0])\n",
    "divr = np.zeros(4)\n",
    "intr = 0\n",
    "cor_m = 0.5*np.identity(4) + 0.5\n",
    "texp = 5\n",
    "strike = 120\n",
    "\n",
    "cp = 1\n",
    "n_samples = 1000"
   ]
  },
  {
   "cell_type": "code",
   "execution_count": 18,
   "metadata": {},
   "outputs": [
    {
     "data": {
      "text/plain": [
       "26.570845957870503"
      ]
     },
     "execution_count": 18,
     "metadata": {},
     "output_type": "execute_result"
    }
   ],
   "source": [
    "### Make sure that the analytic normal price is correctly implemented\n",
    "# basket.basket_price_norm_analytic(strike, spot, vol*spot, weights, texp, cor_m, intr=intr, divr=divr, bsm=False)\n",
    "p_norm_analytic = basket.basket_price_norm_analytic(strike, spot, vol*spot, weights, texp, cor_m, intr=intr, divr=divr)\n",
    "p_norm_analytic"
   ]
  },
  {
   "cell_type": "code",
   "execution_count": 19,
   "metadata": {},
   "outputs": [
    {
     "name": "stdout",
     "output_type": "stream",
     "text": [
      "[27.7768101165817, 1.8636655011884358]\n"
     ]
    }
   ],
   "source": [
    "# Run below about 100 times and get the mean and stdev\n",
    "\n",
    "### Returns 2 prices, without CV and with CV \n",
    "# price_basket = basket.basket_price_mc_cv(strike, spot, vol, weights, texp, cor_m)\n",
    "price_basket = basket.basket_price_mc_cv(strike, spot, vol, weights, texp, cor_m)\n",
    "print(price_basket)"
   ]
  },
  {
   "cell_type": "code",
   "execution_count": 21,
   "metadata": {},
   "outputs": [
    {
     "data": {
      "text/plain": [
       "array([[28.76320552,  2.40904746],\n",
       "       [28.31778967,  2.05500906],\n",
       "       [28.96745555,  1.6999374 ],\n",
       "       [29.03893119,  2.28331692],\n",
       "       [29.286419  ,  2.83266107],\n",
       "       [29.16574118,  2.71726127],\n",
       "       [27.28847935,  1.38452955],\n",
       "       [28.70447148,  2.11382631],\n",
       "       [26.30169883,  0.40643437],\n",
       "       [28.48926515,  2.09231761],\n",
       "       [29.64414068,  2.43415182],\n",
       "       [28.52087387,  2.14801543],\n",
       "       [29.05549174,  2.19874108],\n",
       "       [27.12622355,  1.20143469],\n",
       "       [28.6008739 ,  1.92322053],\n",
       "       [27.6523924 ,  1.33522826],\n",
       "       [28.32070744,  2.23186535],\n",
       "       [28.08199359,  1.5142199 ],\n",
       "       [29.38199195,  2.20864366],\n",
       "       [28.111915  ,  2.00993544],\n",
       "       [28.9533431 ,  2.8036335 ],\n",
       "       [28.49997738,  2.17402499],\n",
       "       [28.95827683,  2.42670166],\n",
       "       [29.13741544,  2.06517467],\n",
       "       [27.95331303,  1.68817577],\n",
       "       [28.76907754,  2.0047713 ],\n",
       "       [25.92902093,  0.51706231],\n",
       "       [26.88490689,  1.07339527],\n",
       "       [28.84553369,  2.17945444],\n",
       "       [28.77845391,  2.45682537],\n",
       "       [27.73756291,  1.77525654],\n",
       "       [28.47975413,  1.90565945],\n",
       "       [27.77762375,  1.67347295],\n",
       "       [28.33625768,  1.75914276],\n",
       "       [30.88016079,  3.04678964],\n",
       "       [28.43245372,  2.35685339],\n",
       "       [27.10728119,  1.6348319 ],\n",
       "       [28.08596081,  1.97743405],\n",
       "       [27.22247611,  1.25754648],\n",
       "       [29.37676566,  2.49422534],\n",
       "       [29.95886782,  2.9930612 ],\n",
       "       [28.86557941,  2.49605936],\n",
       "       [27.72517641,  1.42661853],\n",
       "       [29.71241096,  3.00574763],\n",
       "       [27.88444059,  1.64769669],\n",
       "       [29.1511508 ,  2.42788874],\n",
       "       [28.54680537,  1.95032916],\n",
       "       [29.13941518,  2.81605185],\n",
       "       [28.64781391,  1.98365975],\n",
       "       [27.80553224,  1.724742  ],\n",
       "       [29.28703221,  2.2456521 ],\n",
       "       [28.57025758,  2.07802774],\n",
       "       [27.26294732,  1.26380274],\n",
       "       [27.38548274,  1.59136465],\n",
       "       [30.71827057,  3.06155068],\n",
       "       [28.0833369 ,  1.74446031],\n",
       "       [28.94593057,  2.01187276],\n",
       "       [28.2080722 ,  1.46833254],\n",
       "       [29.29506022,  2.78643722],\n",
       "       [29.83832   ,  3.33936186],\n",
       "       [28.73259367,  2.34230855],\n",
       "       [29.47652229,  2.88907985],\n",
       "       [29.22811708,  2.71529976],\n",
       "       [28.75169289,  2.23003835],\n",
       "       [27.45297331,  1.26244269],\n",
       "       [29.40344671,  2.3337837 ],\n",
       "       [28.7882587 ,  2.14697048],\n",
       "       [30.00414259,  2.88196333],\n",
       "       [28.81118696,  2.15247667],\n",
       "       [27.40193267,  1.45652261],\n",
       "       [28.75912276,  2.39845519],\n",
       "       [28.13110678,  1.97781477],\n",
       "       [28.81265725,  2.35650699],\n",
       "       [28.62526888,  2.15578676],\n",
       "       [29.20369858,  2.09049738],\n",
       "       [26.88400729,  1.34695058],\n",
       "       [27.66718696,  1.95277619],\n",
       "       [28.24383265,  2.28525317],\n",
       "       [28.05791565,  1.68466378],\n",
       "       [28.74996605,  2.22604392],\n",
       "       [29.93051579,  2.33572581],\n",
       "       [30.0740252 ,  3.3657179 ],\n",
       "       [28.43721359,  1.93579359],\n",
       "       [27.34170371,  1.7173829 ],\n",
       "       [30.01687419,  3.19438259],\n",
       "       [30.05918499,  3.24435081],\n",
       "       [27.66534243,  1.55930002],\n",
       "       [29.85110347,  2.89636976],\n",
       "       [27.6540456 ,  1.63618341],\n",
       "       [28.10411407,  1.79496478],\n",
       "       [27.13697444,  1.45346245],\n",
       "       [29.50231501,  2.68103149],\n",
       "       [27.77126648,  1.27345515],\n",
       "       [29.45257695,  2.61613362],\n",
       "       [28.86604467,  2.21218494],\n",
       "       [28.10033075,  1.60825985],\n",
       "       [29.78228756,  2.99211308],\n",
       "       [28.9024398 ,  2.06539276],\n",
       "       [29.17754513,  2.68319743],\n",
       "       [28.67334951,  2.39229722]])"
      ]
     },
     "execution_count": 21,
     "metadata": {},
     "output_type": "execute_result"
    }
   ],
   "source": [
    "price_draw = []\n",
    "for i in range(100):\n",
    "    price_basket = basket.basket_price_mc_cv(strike, spot, vol, weights, texp, cor_m)\n",
    "    price_draw.append(price_basket)\n",
    "    \n",
    "price_draw = np.array(price_draw)\n",
    "price_draw"
   ]
  },
  {
   "cell_type": "code",
   "execution_count": 30,
   "metadata": {},
   "outputs": [
    {
     "name": "stdout",
     "output_type": "stream",
     "text": [
      "Mean of non-CV :  28.576825    Stdev of non-CV : 0.918977\n",
      "Mean of CV     :  2.110763     Stdev of CV     : 0.581065    \n"
     ]
    }
   ],
   "source": [
    "noncv_mean = price_draw[:,0].mean()\n",
    "noncv_std = price_draw[:,0].std()\n",
    "cv_mean = price_draw[:,1].mean()\n",
    "cv_std = price_draw[:,1].std()\n",
    "print('Mean of non-CV :  %f   '% noncv_mean,'Stdev of non-CV : %f' % noncv_std)\n",
    "print('Mean of CV     :  %f    '% cv_mean,   'Stdev of CV     : %f    ' % cv_std)"
   ]
  },
  {
   "cell_type": "code",
   "execution_count": null,
   "metadata": {},
   "outputs": [],
   "source": []
  }
 ],
 "metadata": {
  "anaconda-cloud": {},
  "kernelspec": {
   "display_name": "Python 3",
   "language": "python",
   "name": "python3"
  },
  "language_info": {
   "codemirror_mode": {
    "name": "ipython",
    "version": 3
   },
   "file_extension": ".py",
   "mimetype": "text/x-python",
   "name": "python",
   "nbconvert_exporter": "python",
   "pygments_lexer": "ipython3",
   "version": "3.7.3"
  }
 },
 "nbformat": 4,
 "nbformat_minor": 1
}
