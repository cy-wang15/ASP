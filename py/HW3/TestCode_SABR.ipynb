{
 "cells": [
  {
   "cell_type": "markdown",
   "metadata": {
    "collapsed": true
   },
   "source": [
    "# SABR Model Test Code"
   ]
  },
  {
   "cell_type": "code",
   "execution_count": 1,
   "metadata": {},
   "outputs": [],
   "source": [
    "%load_ext autoreload\n",
    "%autoreload 2"
   ]
  },
  {
   "cell_type": "code",
   "execution_count": 2,
   "metadata": {},
   "outputs": [
    {
     "data": {
      "text/plain": [
       "<module 'pyfeng' from 'F:\\\\anaconda3\\\\lib\\\\site-packages\\\\pyfeng\\\\__init__.py'>"
      ]
     },
     "execution_count": 2,
     "metadata": {},
     "output_type": "execute_result"
    }
   ],
   "source": [
    "import imp\n",
    "import numpy as np\n",
    "import matplotlib.pyplot as plt\n",
    "import sys\n",
    "sys.path.insert(sys.path.index('')+1, 'D:/Github/PyFENG')\n",
    "import pyfeng as pf\n",
    "import option_models as opt\n",
    "pf"
   ]
  },
  {
   "cell_type": "markdown",
   "metadata": {},
   "source": [
    "## 1. Pricing using Hagan's formula (provided)"
   ]
  },
  {
   "cell_type": "markdown",
   "metadata": {},
   "source": [
    "### (1) SABR for $0<\\beta\\le 1$"
   ]
  },
  {
   "cell_type": "code",
   "execution_count": 3,
   "metadata": {},
   "outputs": [],
   "source": [
    "# Parameters\n",
    "strike = np.linspace(75,125,num=25)\n",
    "forward = 100\n",
    "sigma = 0.2\n",
    "texp = 1\n",
    "vov = 0.5\n",
    "rho = 0.25\n",
    "beta = 1"
   ]
  },
  {
   "cell_type": "code",
   "execution_count": 4,
   "metadata": {},
   "outputs": [],
   "source": [
    "# Create model\n",
    "sabr_bsm = pf.SabrHagan2002(sigma, vov=vov, rho=rho, beta=beta)\n",
    "#sabr_bsm.__dict__"
   ]
  },
  {
   "cell_type": "code",
   "execution_count": 5,
   "metadata": {},
   "outputs": [
    {
     "data": {
      "text/plain": [
       "(array([25.63112985, 23.75128418, 21.92436819, 20.15929844, 18.464919  ,\n",
       "        16.84954379, 15.32049449, 13.88369006, 12.5433379 , 11.30176115,\n",
       "        10.15937353,  9.11479108,  8.16505218,  7.30590775,  6.53214252,\n",
       "         5.83789336,  5.21693965,  4.66295032,  4.1696811 ,  3.73112202,\n",
       "         3.34159961,  2.99584057,  2.68900456,  2.4166934 ,  2.17494321]),\n",
       " array([0.20400581, 0.20266888, 0.20161986, 0.20085527, 0.2003692 ,\n",
       "        0.20015312, 0.20019595, 0.20048427, 0.20100266, 0.20173418,\n",
       "        0.20266088, 0.20376432, 0.20502604, 0.20642803, 0.20795302,\n",
       "        0.20958477, 0.2113082 , 0.21310949, 0.21497615, 0.21689693,\n",
       "        0.2188618 , 0.22086191, 0.22288945, 0.22493758, 0.22700034]))"
      ]
     },
     "execution_count": 5,
     "metadata": {},
     "output_type": "execute_result"
    }
   ],
   "source": [
    "# This is how you price. you can get either price or bsm_vol\n",
    "price = sabr_bsm.price(strike, forward, texp)\n",
    "bsm_vol = sabr_bsm.vol_smile(strike, forward, texp)\n",
    "\n",
    "price, bsm_vol"
   ]
  },
  {
   "cell_type": "code",
   "execution_count": 6,
   "metadata": {},
   "outputs": [
    {
     "data": {
      "image/png": "[encoded data removed]",
      "text/plain": [
       "<Figure size 432x288 with 1 Axes>"
      ]
     },
     "metadata": {
      "needs_background": "light"
     },
     "output_type": "display_data"
    }
   ],
   "source": [
    "# volatility smile plot: try with different parameters\n",
    "plt.plot(strike, bsm_vol, 'ro')\n",
    "#plt.axis([0, 6, 0, 20])\n",
    "plt.ylabel('BSM Imp Vol under SABR')\n",
    "plt.xlabel('Strike')\n",
    "plt.grid()\n",
    "plt.show()"
   ]
  },
  {
   "cell_type": "markdown",
   "metadata": {},
   "source": [
    "### (2) SABR for $\\beta=0$"
   ]
  },
  {
   "cell_type": "code",
   "execution_count": 7,
   "metadata": {},
   "outputs": [],
   "source": [
    "strike = np.linspace(75,125,num=25)\n",
    "#strike = 1\n",
    "forward = 100\n",
    "sigma = 20\n",
    "texp = 1\n",
    "alpha = 0.5\n",
    "rho = -0.25"
   ]
  },
  {
   "cell_type": "code",
   "execution_count": 8,
   "metadata": {},
   "outputs": [],
   "source": [
    "sabr_norm = pf.SabrHagan2002(sigma, vov=vov, rho=rho, beta=0)\n",
    "price = sabr_norm.price(strike, forward, texp)\n",
    "nvol = sabr_norm.vol_smile(strike, forward, texp, model='norm')"
   ]
  },
  {
   "cell_type": "code",
   "execution_count": 9,
   "metadata": {},
   "outputs": [
    {
     "data": {
      "image/png": "[encoded data removed]",
      "text/plain": [
       "<Figure size 432x288 with 1 Axes>"
      ]
     },
     "metadata": {
      "needs_background": "light"
     },
     "output_type": "display_data"
    }
   ],
   "source": [
    "plt.plot(strike, nvol, 'ro')\n",
    "#plt.axis([0, 6, 0, 20])\n",
    "plt.ylabel('Normal Imp Vol under SABR')\n",
    "plt.xlabel('Strike')\n",
    "plt.grid()\n",
    "plt.show()"
   ]
  },
  {
   "cell_type": "markdown",
   "metadata": {},
   "source": [
    "### (3) Smile calibration to 3 options"
   ]
  },
  {
   "cell_type": "code",
   "execution_count": 10,
   "metadata": {},
   "outputs": [
    {
     "data": {
      "text/plain": [
       "(array([13.60780137,  8.16505218,  4.76869334]),\n",
       " array([0.20057006, 0.20502604, 0.21274362]))"
      ]
     },
     "execution_count": 10,
     "metadata": {},
     "output_type": "execute_result"
    }
   ],
   "source": [
    "strike3 = np.array([90, 100, 110])\n",
    "price3 = sabr_bsm.price(strike3, forward, texp)\n",
    "vol3 = sabr_bsm.vol_smile(strike3, forward, texp)\n",
    "\n",
    "price3, vol3"
   ]
  },
  {
   "cell_type": "code",
   "execution_count": 11,
   "metadata": {},
   "outputs": [
    {
     "data": {
      "text/plain": [
       "{'sigma': 0.2,\n",
       " 'intr': 0.0,\n",
       " 'divr': 0.0,\n",
       " 'is_fwd': False,\n",
       " 'vov': 0.5,\n",
       " 'rho': 0.25,\n",
       " 'beta': 1}"
      ]
     },
     "execution_count": 11,
     "metadata": {},
     "output_type": "execute_result"
    }
   ],
   "source": [
    "sabr_bsm.__dict__"
   ]
  },
  {
   "cell_type": "code",
   "execution_count": 12,
   "metadata": {},
   "outputs": [
    {
     "data": {
      "text/plain": [
       "{'sigma': 0.20611324295816041, 'vov': 0.0, 'rho': 1.0}"
      ]
     },
     "execution_count": 12,
     "metadata": {},
     "output_type": "execute_result"
    }
   ],
   "source": [
    "# makre sure this return the original sigma, alpha, rho\n",
    "sabr_bsm.calibrate3(vol3, strike3, forward, texp, is_vol=True)"
   ]
  },
  {
   "cell_type": "code",
   "execution_count": 13,
   "metadata": {},
   "outputs": [
    {
     "ename": "TypeError",
     "evalue": "_m_base() missing 1 required positional argument: 'vol'",
     "output_type": "error",
     "traceback": [
      "\u001b[1;31m---------------------------------------------------------------------------\u001b[0m",
      "\u001b[1;31mTypeError\u001b[0m                                 Traceback (most recent call last)",
      "\u001b[1;32m<ipython-input-13-88841e8f8a65>\u001b[0m in \u001b[0;36m<module>\u001b[1;34m\u001b[0m\n\u001b[0;32m      1\u001b[0m \u001b[1;31m# makre sure this return the original sigma, alpha, rho\u001b[0m\u001b[1;33m\u001b[0m\u001b[1;33m\u001b[0m\u001b[1;33m\u001b[0m\u001b[0m\n\u001b[1;32m----> 2\u001b[1;33m \u001b[0msabr_bsm\u001b[0m\u001b[1;33m.\u001b[0m\u001b[0mcalibrate3\u001b[0m\u001b[1;33m(\u001b[0m\u001b[0mprice3\u001b[0m\u001b[1;33m,\u001b[0m \u001b[0mstrike3\u001b[0m\u001b[1;33m,\u001b[0m \u001b[0mforward\u001b[0m\u001b[1;33m,\u001b[0m \u001b[0mtexp\u001b[0m\u001b[1;33m,\u001b[0m \u001b[0mis_vol\u001b[0m\u001b[1;33m=\u001b[0m\u001b[1;32mFalse\u001b[0m\u001b[1;33m)\u001b[0m\u001b[1;33m\u001b[0m\u001b[1;33m\u001b[0m\u001b[0m\n\u001b[0m",
      "\u001b[1;32mF:\\anaconda3\\lib\\site-packages\\pyfeng\\sabr.py\u001b[0m in \u001b[0;36mcalibrate3\u001b[1;34m(self, price_or_vol3, strike3, spot, texp, cp, setval, is_vol)\u001b[0m\n\u001b[0;32m    256\u001b[0m             \u001b[0mvol3\u001b[0m \u001b[1;33m=\u001b[0m \u001b[0mprice_or_vol3\u001b[0m\u001b[1;33m\u001b[0m\u001b[1;33m\u001b[0m\u001b[0m\n\u001b[0;32m    257\u001b[0m         \u001b[1;32melse\u001b[0m\u001b[1;33m:\u001b[0m\u001b[1;33m\u001b[0m\u001b[1;33m\u001b[0m\u001b[0m\n\u001b[1;32m--> 258\u001b[1;33m             \u001b[0mvol3\u001b[0m \u001b[1;33m=\u001b[0m \u001b[0mself\u001b[0m\u001b[1;33m.\u001b[0m\u001b[0m_m_base\u001b[0m\u001b[1;33m(\u001b[0m\u001b[1;33m)\u001b[0m\u001b[1;33m.\u001b[0m\u001b[0mimpvol\u001b[0m\u001b[1;33m(\u001b[0m\u001b[0mprice_or_vol3\u001b[0m\u001b[1;33m,\u001b[0m \u001b[0mstrike3\u001b[0m\u001b[1;33m,\u001b[0m \u001b[0mspot\u001b[0m\u001b[1;33m,\u001b[0m \u001b[0mtexp\u001b[0m\u001b[1;33m)\u001b[0m\u001b[1;33m\u001b[0m\u001b[1;33m\u001b[0m\u001b[0m\n\u001b[0m\u001b[0;32m    259\u001b[0m \u001b[1;33m\u001b[0m\u001b[0m\n\u001b[0;32m    260\u001b[0m         \u001b[1;32mdef\u001b[0m \u001b[0miv_func\u001b[0m\u001b[1;33m(\u001b[0m\u001b[0mx\u001b[0m\u001b[1;33m)\u001b[0m\u001b[1;33m:\u001b[0m\u001b[1;33m\u001b[0m\u001b[1;33m\u001b[0m\u001b[0m\n",
      "\u001b[1;31mTypeError\u001b[0m: _m_base() missing 1 required positional argument: 'vol'"
     ]
    }
   ],
   "source": [
    "# makre sure this return the original sigma, alpha, rho\n",
    "sabr_bsm.calibrate3(price3, strike3, forward, texp, is_vol=False)"
   ]
  },
  {
   "cell_type": "markdown",
   "metadata": {},
   "source": [
    "## 2. Pricing under MC method"
   ]
  },
  {
   "cell_type": "code",
   "execution_count": 112,
   "metadata": {},
   "outputs": [],
   "source": [
    "strike = np.linspace(75,125,num=25)\n",
    "forward = 100"
   ]
  },
  {
   "cell_type": "code",
   "execution_count": 113,
   "metadata": {},
   "outputs": [
    {
     "name": "stdout",
     "output_type": "stream",
     "text": [
      "{'sigma': 0.2, 'intr': 0.0, 'divr': 0.0, 'is_fwd': False, 'vov': 0.5, 'rho': 0.25, 'beta': 1}\n"
     ]
    }
   ],
   "source": [
    "# instantiate mc model from the hagan model's parameters\n",
    "print(sabr_bsm.__dict__)\n",
    "sabr_bsm_mc = opt.sabr.ModelBsmMC(sabr_bsm.sigma, vov=sabr_bsm.vov, rho=sabr_bsm.rho, beta=1)"
   ]
  },
  {
   "cell_type": "code",
   "execution_count": 114,
   "metadata": {},
   "outputs": [
    {
     "data": {
      "text/plain": [
       "(array([25.63112985, 23.75128418, 21.92436819, 20.15929844, 18.464919  ,\n",
       "        16.84954379, 15.32049449, 13.88369006, 12.5433379 , 11.30176115,\n",
       "        10.15937353,  9.11479108,  8.16505218,  7.30590775,  6.53214252,\n",
       "         5.83789336,  5.21693965,  4.66295032,  4.1696811 ,  3.73112202,\n",
       "         3.34159961,  2.99584057,  2.68900456,  2.4166934 ,  2.17494321]),\n",
       " array([25.63313128, 23.75425687, 21.92872432, 20.16797877, 18.47495945,\n",
       "        16.85899812, 15.32603946, 13.89071322, 12.54758429, 11.29695345,\n",
       "        10.14576045,  9.09267326,  8.13086082,  7.2607347 ,  6.47705012,\n",
       "         5.77181028,  5.1404805 ,  4.57815198,  4.07706386,  3.6330443 ,\n",
       "         3.24230379,  2.89946509,  2.59477132,  2.32461835,  2.08368356]))"
      ]
     },
     "execution_count": 114,
     "metadata": {},
     "output_type": "execute_result"
    }
   ],
   "source": [
    "price_hagan = sabr_bsm.price(strike, forward, texp)\n",
    "price_mc = sabr_bsm_mc.price(strike, forward, texp)\n",
    "\n",
    "# make sure the two prices are similar\n",
    "price_hagan, price_mc"
   ]
  },
  {
   "cell_type": "markdown",
   "metadata": {},
   "source": [
    "Repeat the same for beta = 0"
   ]
  },
  {
   "cell_type": "code",
   "execution_count": 115,
   "metadata": {},
   "outputs": [
    {
     "name": "stdout",
     "output_type": "stream",
     "text": [
      "{'sigma': 20, 'intr': 0.0, 'divr': 0.0, 'is_fwd': False, 'vov': 0.5, 'rho': -0.25, 'beta': 0}\n"
     ]
    }
   ],
   "source": [
    "# instantiate mc model from the hagan model's parameters\n",
    "print(sabr_norm.__dict__)\n",
    "sabr_norm_mc = opt.sabr.ModelNormalMC(sabr_norm.sigma, vov=sabr_norm.vov, rho=sabr_norm.rho, beta=0)"
   ]
  },
  {
   "cell_type": "code",
   "execution_count": 116,
   "metadata": {},
   "outputs": [
    {
     "data": {
      "text/plain": [
       "(array([26.59094359, 24.75316491, 22.95198866, 21.19221774, 19.47903728,\n",
       "        17.81796274, 16.21475835, 14.6753216 , 13.20553214, 11.81106589,\n",
       "        10.49717985,  9.26847793,  8.12867327,  7.08036718,  6.12486688,\n",
       "         5.26206391,  4.4903905 ,  3.80686327,  3.2072135 ,  2.6860921 ,\n",
       "         2.2373286 ,  1.85421785,  1.52980713,  1.25715953,  1.02957603]),\n",
       " array([26.60605788, 24.76537845, 22.95961144, 21.19501205, 19.48073146,\n",
       "        17.81507209, 16.20934817, 14.6647415 , 13.19160199, 11.79581577,\n",
       "        10.47900297,  9.24488353,  8.09683908,  7.03948196,  6.07328879,\n",
       "         5.20298272,  4.42687339,  3.74245062,  3.14948835,  2.63160108,\n",
       "         2.18587421,  1.80865517,  1.48919816,  1.2214988 ,  1.00095337]))"
      ]
     },
     "execution_count": 116,
     "metadata": {},
     "output_type": "execute_result"
    }
   ],
   "source": [
    "price_hagan = sabr_norm.price(strike, forward, texp)\n",
    "price_mc = sabr_norm_mc.price(strike, forward, texp)\n",
    "\n",
    "# make sure the two prices are similar\n",
    "price_hagan, price_mc"
   ]
  },
  {
   "cell_type": "code",
   "execution_count": null,
   "metadata": {},
   "outputs": [],
   "source": []
  },
  {
   "cell_type": "markdown",
   "metadata": {
    "collapsed": true
   },
   "source": [
    "## 3. Pricing under conditional MC method"
   ]
  },
  {
   "cell_type": "code",
   "execution_count": 102,
   "metadata": {},
   "outputs": [],
   "source": [
    "strike = np.linspace(75,125,num=25)\n",
    "forward = 100"
   ]
  },
  {
   "cell_type": "code",
   "execution_count": 103,
   "metadata": {},
   "outputs": [
    {
     "name": "stdout",
     "output_type": "stream",
     "text": [
      "{'sigma': 0.2, 'intr': 0.0, 'divr': 0.0, 'is_fwd': False, 'vov': 0.5, 'rho': 0.25, 'beta': 1}\n"
     ]
    }
   ],
   "source": [
    "# instantiate mc model from the hagan model's parameters\n",
    "print(sabr_bsm.__dict__)\n",
    "sabr_bsm_cmc = opt.sabr.ModelBsmCondMC(sabr_bsm.sigma, vov=sabr_bsm.vov, rho=sabr_bsm.rho, beta=1)"
   ]
  },
  {
   "cell_type": "code",
   "execution_count": 104,
   "metadata": {},
   "outputs": [
    {
     "data": {
      "text/plain": [
       "(array([25.63112985, 23.75128418, 21.92436819, 20.15929844, 18.464919  ,\n",
       "        16.84954379, 15.32049449, 13.88369006, 12.5433379 , 11.30176115,\n",
       "        10.15937353,  9.11479108,  8.16505218,  7.30590775,  6.53214252,\n",
       "         5.83789336,  5.21693965,  4.66295032,  4.1696811 ,  3.73112202,\n",
       "         3.34159961,  2.99584057,  2.68900456,  2.4166934 ,  2.17494321]),\n",
       " [25.536392426904484,\n",
       "  23.655541052323727,\n",
       "  21.82458042913153,\n",
       "  20.051801958812174,\n",
       "  18.345606897893727,\n",
       "  16.71413883428803,\n",
       "  15.164884355545396,\n",
       "  13.704281271917067,\n",
       "  12.33737723679925,\n",
       "  11.06757736869525,\n",
       "  9.896507796465132,\n",
       "  8.8240053847776,\n",
       "  7.848226163909845,\n",
       "  6.965850197448394,\n",
       "  6.172351556094377,\n",
       "  5.462299589553122,\n",
       "  4.829660874978676,\n",
       "  4.268078063168655,\n",
       "  3.771110111979522,\n",
       "  3.3324262783769503,\n",
       "  2.9459526297809755,\n",
       "  2.6059743105652333,\n",
       "  2.307199435085025,\n",
       "  2.0447916183892634,\n",
       "  1.8143782300494324])"
      ]
     },
     "execution_count": 104,
     "metadata": {},
     "output_type": "execute_result"
    }
   ],
   "source": [
    "price_hagan = sabr_bsm.price(strike, forward, texp)\n",
    "price_mc = sabr_bsm_cmc.price(strike, forward, texp)\n",
    "\n",
    "# make sure the two prices are similar\n",
    "price_hagan, price_mc"
   ]
  },
  {
   "cell_type": "markdown",
   "metadata": {},
   "source": [
    "Repeat the same for beta = 0"
   ]
  },
  {
   "cell_type": "code",
   "execution_count": 105,
   "metadata": {},
   "outputs": [
    {
     "name": "stdout",
     "output_type": "stream",
     "text": [
      "{'sigma': 20, 'intr': 0.0, 'divr': 0.0, 'is_fwd': False, 'vov': 0.5, 'rho': -0.25, 'beta': 0}\n"
     ]
    }
   ],
   "source": [
    "# instantiate mc model from the hagan model's parameters\n",
    "print(sabr_norm.__dict__)\n",
    "sabr_norm_cmc = opt.sabr.ModelNormalCondMC(sabr_norm.sigma, vov=sabr_norm.vov, rho=sabr_norm.rho, beta=0)"
   ]
  },
  {
   "cell_type": "code",
   "execution_count": 106,
   "metadata": {},
   "outputs": [
    {
     "data": {
      "text/plain": [
       "(array([26.59094359, 24.75316491, 22.95198866, 21.19221774, 19.47903728,\n",
       "        17.81796274, 16.21475835, 14.6753216 , 13.20553214, 11.81106589,\n",
       "        10.49717985,  9.26847793,  8.12867327,  7.08036718,  6.12486688,\n",
       "         5.26206391,  4.4903905 ,  3.80686327,  3.2072135 ,  2.6860921 ,\n",
       "         2.2373286 ,  1.85421785,  1.52980713,  1.25715953,  1.02957603]),\n",
       " [26.578867852139986,\n",
       "  24.74024810927343,\n",
       "  22.938508203582952,\n",
       "  21.178501498641072,\n",
       "  19.46545591434079,\n",
       "  17.804916872443094,\n",
       "  16.202660155550458,\n",
       "  14.664571421937593,\n",
       "  13.19649130316117,\n",
       "  11.80402820804241,\n",
       "  10.492345053253535,\n",
       "  9.265930780694413,\n",
       "  8.128372074705345,\n",
       "  7.08214429175384,\n",
       "  6.128442289656932,\n",
       "  5.267070740127012,\n",
       "  4.496409178577278,\n",
       "  3.813459702915898,\n",
       "  3.213975872931225,\n",
       "  2.6926616309425833,\n",
       "  2.243420871667253,\n",
       "  1.8596332605541057,\n",
       "  1.5344308877402142,\n",
       "  1.260953201559639,\n",
       "  1.0325633688493014])"
      ]
     },
     "execution_count": 106,
     "metadata": {},
     "output_type": "execute_result"
    }
   ],
   "source": [
    "price_hagan = sabr_norm.price(strike, forward, texp)\n",
    "price_mc = sabr_norm_cmc.price(strike, forward, texp)\n",
    "    \n",
    "# make sure the two prices are similar\n",
    "price_hagan, price_mc"
   ]
  },
  {
   "cell_type": "markdown",
   "metadata": {
    "collapsed": true
   },
   "source": [
    "## Compare the MC variance between brute-force MC and conditional MC\n",
    "For this, you should not use the random number seed"
   ]
  },
  {
   "cell_type": "code",
   "execution_count": 120,
   "metadata": {},
   "outputs": [
    {
     "data": {
      "text/plain": [
       "(array([451.82573974, 441.74464613, 429.98784151, 416.43089018,\n",
       "        401.37383093, 384.88738954, 367.20512483, 348.30616498,\n",
       "        328.76836629, 308.94483686, 288.99390345, 269.20582317,\n",
       "        249.9208787 , 231.27871476, 213.45301949, 196.5984878 ,\n",
       "        180.7785246 , 166.01868484, 152.34494224, 139.72460154,\n",
       "        128.10473566, 117.43044447, 107.67051494,  98.76140741,\n",
       "         90.64876532]),\n",
       " [10.074072508445115,\n",
       "  10.646458057979931,\n",
       "  11.255433633735997,\n",
       "  11.882304698683093,\n",
       "  12.50203217262961,\n",
       "  13.084088743798212,\n",
       "  13.59446261942735,\n",
       "  13.998761170705013,\n",
       "  14.266032688733798,\n",
       "  14.372617560527793,\n",
       "  14.305206238126344,\n",
       "  14.062415508668419,\n",
       "  13.6545701082491,\n",
       "  13.10184611134511,\n",
       "  12.431309324218699,\n",
       "  11.673543481635626,\n",
       "  10.859500505107478,\n",
       "  10.017998734389607,\n",
       "  9.174051300073199,\n",
       "  8.348005592460362,\n",
       "  7.555350622074531,\n",
       "  6.806999512402166,\n",
       "  6.109858356289818,\n",
       "  5.46752593245573,\n",
       "  4.881012035651758])"
      ]
     },
     "execution_count": 120,
     "metadata": {},
     "output_type": "execute_result"
    }
   ],
   "source": [
    "var_mc_bs = sabr_bsm_mc.sim_var\n",
    "var_cmc_bs = sabr_bsm_cmc.sim_var\n",
    "\n",
    "var_mc_bs, var_cmc_bs"
   ]
  },
  {
   "cell_type": "code",
   "execution_count": 121,
   "metadata": {},
   "outputs": [
    {
     "data": {
      "text/plain": [
       "(array([322.49386995, 310.03999143, 296.80668948, 282.74819185,\n",
       "        267.75595132, 252.19633823, 235.96644158, 219.3570582 ,\n",
       "        202.38553245, 185.2319609 , 168.1853631 , 151.46442178,\n",
       "        135.27534133, 119.77821669, 105.16051098,  91.51688357,\n",
       "         78.96152042,  67.56424223,  57.32262841,  48.2972787 ,\n",
       "         40.43368108,  33.64062456,  27.84122251,  22.93683031,\n",
       "         18.81123413]),\n",
       " [10.852307961794784,\n",
       "  9.680563743144404,\n",
       "  8.528433216332509,\n",
       "  7.414452693442315,\n",
       "  6.357873140694349,\n",
       "  5.37757471085414,\n",
       "  4.490737266888408,\n",
       "  3.7113659374275527,\n",
       "  3.0488354953936,\n",
       "  2.5066737128997856,\n",
       "  2.0818312711274207,\n",
       "  1.7646622804929772,\n",
       "  1.5397499031972866,\n",
       "  1.3875583239044291,\n",
       "  1.2867033145393798,\n",
       "  1.216461744699717,\n",
       "  1.1590490233280968,\n",
       "  1.1012298891738788,\n",
       "  1.0349953771850127,\n",
       "  0.9572850626268473,\n",
       "  0.8689699114576493,\n",
       "  0.7734539449784313,\n",
       "  0.6752656155464084,\n",
       "  0.578914359053862,\n",
       "  0.4881437616005891])"
      ]
     },
     "execution_count": 121,
     "metadata": {},
     "output_type": "execute_result"
    }
   ],
   "source": [
    "var_mc_n = sabr_norm_mc.sim_var\n",
    "var_cmc_n = sabr_norm_cmc.sim_var\n",
    "\n",
    "var_mc_n, var_cmc_n"
   ]
  },
  {
   "cell_type": "code",
   "execution_count": null,
   "metadata": {},
   "outputs": [],
   "source": []
  }
 ],
 "metadata": {
  "anaconda-cloud": {},
  "kernelspec": {
   "display_name": "Python 3",
   "language": "python",
   "name": "python3"
  },
  "language_info": {
   "codemirror_mode": {
    "name": "ipython",
    "version": 3
   },
   "file_extension": ".py",
   "mimetype": "text/x-python",
   "name": "python",
   "nbconvert_exporter": "python",
   "pygments_lexer": "ipython3",
   "version": "3.7.3"
  }
 },
 "nbformat": 4,
 "nbformat_minor": 1
}
